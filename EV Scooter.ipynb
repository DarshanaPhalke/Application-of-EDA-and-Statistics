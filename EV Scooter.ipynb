{
 "cells": [
  {
   "cell_type": "code",
   "execution_count": 1,
   "id": "79df31c0",
   "metadata": {},
   "outputs": [],
   "source": [
    "# import 'pandas' \n",
    "import pandas as pd \n",
    "\n",
    "# import 'numpy' \n",
    "import numpy as np\n",
    "\n",
    "# import subpackage of matplotlib\n",
    "import matplotlib.pyplot as plt\n",
    "from matplotlib import gridspec\n",
    "%matplotlib inline\n",
    "\n",
    "# import 'seaborn'\n",
    "import seaborn as sns\n",
    "\n",
    "# to suppress warnings \n",
    "from warnings import filterwarnings\n",
    "filterwarnings('ignore')\n",
    "\n",
    "import statistics\n",
    "\n",
    "import scipy.stats\n",
    "\n",
    "# import 'stats' package from scipy library\n",
    "from scipy import stats\n",
    "from scipy.stats import randint\n",
    "from scipy.stats import skewnorm\n",
    "\n",
    "# import 'random' to generate a random sample\n",
    "import random"
   ]
  },
  {
   "cell_type": "code",
   "execution_count": 2,
   "id": "f9ca1ed1",
   "metadata": {},
   "outputs": [],
   "source": [
    "age = [42,44,62,35,20,30,56,20,23,41,55,22,31,27,66,21,18,24,42,25,32,50,31,26,36,39,40,18,36,22]"
   ]
  },
  {
   "cell_type": "markdown",
   "id": "621ef41b",
   "metadata": {},
   "source": [
    "<table align=\"left\">\n",
    "    <tr>\n",
    "        <td width=\"6%\">\n",
    "            <img src=\"question_icon.png\">\n",
    "        </td>\n",
    "        <td>\n",
    "            <div align=\"left\", style=\"font-size:120%\">\n",
    "                <font color=\"#21618C\">\n",
    "                    <b>Q1. Compute the mean, median and the mode of the data.</b>\n",
    "                </font>\n",
    "            </div>\n",
    "        </td>\n",
    "    </tr>\n",
    "</table>"
   ]
  },
  {
   "cell_type": "code",
   "execution_count": 3,
   "id": "4b52563d",
   "metadata": {},
   "outputs": [
    {
     "data": {
      "text/plain": [
       "34.46666666666667"
      ]
     },
     "execution_count": 3,
     "metadata": {},
     "output_type": "execute_result"
    }
   ],
   "source": [
    "statistics.mean(age)"
   ]
  },
  {
   "cell_type": "code",
   "execution_count": 4,
   "id": "10a85d2b",
   "metadata": {},
   "outputs": [
    {
     "data": {
      "text/plain": [
       "31.5"
      ]
     },
     "execution_count": 4,
     "metadata": {},
     "output_type": "execute_result"
    }
   ],
   "source": [
    "statistics.median(age)"
   ]
  },
  {
   "cell_type": "code",
   "execution_count": 5,
   "id": "f1c388fc",
   "metadata": {},
   "outputs": [
    {
     "data": {
      "text/plain": [
       "42"
      ]
     },
     "execution_count": 5,
     "metadata": {},
     "output_type": "execute_result"
    }
   ],
   "source": [
    "statistics.mode(age)"
   ]
  },
  {
   "cell_type": "markdown",
   "id": "aaba931c",
   "metadata": {},
   "source": [
    "<table align=\"left\">\n",
    "    <tr>\n",
    "        <td width=\"6%\">\n",
    "            <img src=\"question_icon.png\">\n",
    "        </td>\n",
    "        <td>\n",
    "            <div align=\"left\", style=\"font-size:120%\">\n",
    "                <font color=\"#21618C\">\n",
    "                    <b>Q2. Compute the range , variance and standard deviation of customer ages.</b>\n",
    "                </font>\n",
    "            </div>\n",
    "        </td>\n",
    "    </tr>\n",
    "</table>"
   ]
  },
  {
   "cell_type": "code",
   "execution_count": 6,
   "id": "f8ad57d2",
   "metadata": {},
   "outputs": [
    {
     "data": {
      "text/plain": [
       "48"
      ]
     },
     "execution_count": 6,
     "metadata": {},
     "output_type": "execute_result"
    }
   ],
   "source": [
    "range_age = max(age) - min(age)\n",
    "range_age"
   ]
  },
  {
   "cell_type": "code",
   "execution_count": 7,
   "id": "8933439c",
   "metadata": {},
   "outputs": [
    {
     "data": {
      "text/plain": [
       "177.36091954022987"
      ]
     },
     "execution_count": 7,
     "metadata": {},
     "output_type": "execute_result"
    }
   ],
   "source": [
    "statistics.variance(age)"
   ]
  },
  {
   "cell_type": "code",
   "execution_count": 8,
   "id": "145a76f6",
   "metadata": {},
   "outputs": [
    {
     "data": {
      "text/plain": [
       "13.31769197497186"
      ]
     },
     "execution_count": 8,
     "metadata": {},
     "output_type": "execute_result"
    }
   ],
   "source": [
    "statistics.stdev(age)"
   ]
  },
  {
   "cell_type": "markdown",
   "id": "5567b7a8",
   "metadata": {},
   "source": [
    "<table align=\"left\">\n",
    "    <tr>\n",
    "        <td width=\"6%\">\n",
    "            <img src=\"question_icon.png\">\n",
    "        </td>\n",
    "        <td>\n",
    "            <div align=\"left\", style=\"font-size:120%\">\n",
    "                <font color=\"#21618C\">\n",
    "                    <b>Q3. Find the mean deviation for the data.</b>\n",
    "                </font>\n",
    "            </div>\n",
    "        </td>\n",
    "    </tr>\n",
    "</table>"
   ]
  },
  {
   "cell_type": "markdown",
   "id": "e5931070",
   "metadata": {},
   "source": [
    "Mean Deviation is how deviated are each of the elements of the list from the list mean. "
   ]
  },
  {
   "cell_type": "code",
   "execution_count": 9,
   "id": "6dab61eb",
   "metadata": {},
   "outputs": [
    {
     "name": "stdout",
     "output_type": "stream",
     "text": [
      "The original list is : [42, 44, 62, 35, 20, 30, 56, 20, 23, 41, 55, 22, 31, 27, 66, 21, 18, 24, 42, 25, 32, 50, 31, 26, 36, 39, 40, 18, 36, 22]\n",
      "Mean deviations : [7.533333333333331, 9.533333333333331, 27.53333333333333, 0.5333333333333314, 14.466666666666669, 4.466666666666669, 21.53333333333333, 14.466666666666669, 11.466666666666669, 6.533333333333331, 20.53333333333333, 12.466666666666669, 3.4666666666666686, 7.466666666666669, 31.53333333333333, 13.466666666666669, 16.46666666666667, 10.466666666666669, 7.533333333333331, 9.466666666666669, 2.4666666666666686, 15.533333333333331, 3.4666666666666686, 8.466666666666669, 1.5333333333333314, 4.533333333333331, 5.533333333333331, 16.46666666666667, 1.5333333333333314, 12.466666666666669]\n"
     ]
    }
   ],
   "source": [
    "print(\"The original list is : \" + str(age))\n",
    "  \n",
    "res = []\n",
    "  \n",
    "# getting mean\n",
    "mean_val = np.mean(age)\n",
    "  \n",
    "for ele in age:\n",
    "    # getting deviation\n",
    "    res.append(abs( ele - mean_val ))\n",
    "    \n",
    "print(\"Mean deviations : \" + str(res))"
   ]
  },
  {
   "cell_type": "markdown",
   "id": "2c5a169b",
   "metadata": {},
   "source": [
    "<table align=\"left\">\n",
    "    <tr>\n",
    "        <td width=\"6%\">\n",
    "            <img src=\"question_icon.png\">\n",
    "        </td>\n",
    "        <td>\n",
    "            <div align=\"left\", style=\"font-size:120%\">\n",
    "                <font color=\"#21618C\">\n",
    "                    <b> Q4. Calculate the Pearson coefficient of skewness and comment on the\n",
    "skewness of the data.\n",
    "                        \n",
    "[A measure to determine the skewness of a distribution is called the Pearson\n",
    "coefficient of skewness.\n",
    "                        The value of the coefficient if skewness usually ranges from –3 to 3. When the\n",
    "distribution is symmetric, the coefficient is zero; when the distribution is\n",
    "positively skewed , the coefficient is positive, and when the distribution is\n",
    "negatively skewed the coefficient is negative. ]\n",
    "</b>\n",
    "                </font>\n",
    "            </div>\n",
    "        </td>\n",
    "    </tr>\n",
    "</table>"
   ]
  },
  {
   "cell_type": "code",
   "execution_count": 10,
   "id": "242067b1",
   "metadata": {},
   "outputs": [
    {
     "data": {
      "text/plain": [
       "<AxesSubplot:ylabel='Density'>"
      ]
     },
     "execution_count": 10,
     "metadata": {},
     "output_type": "execute_result"
    },
    {
     "data": {
      "image/png": "[encoded data removed]",
      "text/plain": [
       "<Figure size 432x288 with 1 Axes>"
      ]
     },
     "metadata": {
      "needs_background": "light"
     },
     "output_type": "display_data"
    }
   ],
   "source": [
    "sns.kdeplot(age) "
   ]
  },
  {
   "cell_type": "markdown",
   "id": "d142aaa4",
   "metadata": {},
   "source": [
    "From the KDE Plot, we can determine that the list is slightly right skewed."
   ]
  },
  {
   "cell_type": "code",
   "execution_count": 11,
   "id": "ed40998b",
   "metadata": {},
   "outputs": [],
   "source": [
    "from scipy.stats import skew"
   ]
  },
  {
   "cell_type": "code",
   "execution_count": 12,
   "id": "8258d39f",
   "metadata": {},
   "outputs": [
    {
     "data": {
      "text/plain": [
       "0.7553641682223312"
      ]
     },
     "execution_count": 12,
     "metadata": {},
     "output_type": "execute_result"
    }
   ],
   "source": [
    "skew(age)"
   ]
  },
  {
   "cell_type": "markdown",
   "id": "2d90368a",
   "metadata": {},
   "source": [
    "As the skewness value > 0 , the list is positively skewed."
   ]
  },
  {
   "cell_type": "markdown",
   "id": "521752a7",
   "metadata": {},
   "source": [
    "<table align=\"left\">\n",
    "    <tr>\n",
    "        <td width=\"6%\">\n",
    "            <img src=\"question_icon.png\">\n",
    "        </td>\n",
    "        <td>\n",
    "            <div align=\"left\", style=\"font-size:120%\">\n",
    "                <font color=\"#21618C\">\n",
    "                    <b>Q5. Count the number of data values that fall within two standard deviations of the mean. Compare this with the answer from Chebyshev’s Theorem.</b>\n",
    "                </font>\n",
    "            </div>\n",
    "        </td>\n",
    "    </tr>\n",
    "</table>"
   ]
  },
  {
   "cell_type": "code",
   "execution_count": 13,
   "id": "8884d028",
   "metadata": {},
   "outputs": [],
   "source": [
    "from scipy.stats import norm"
   ]
  },
  {
   "cell_type": "code",
   "execution_count": 14,
   "id": "f1453077",
   "metadata": {},
   "outputs": [],
   "source": [
    "# Chebyshev's inequality formula\n",
    "\n",
    "def chebyshev_inequality(k):\n",
    "    return 1 / k**2"
   ]
  },
  {
   "cell_type": "code",
   "execution_count": 15,
   "id": "57ecc9f1",
   "metadata": {},
   "outputs": [
    {
     "name": "stdout",
     "output_type": "stream",
     "text": [
      "Chebyshev_Inequality for different values in the list :\n",
      "\n",
      "No of data values that fall within two std dev using Chebyshev formula for 42 = 0.0005668934240362812\n",
      "No of data values that fall within two std dev using Chebyshev formula for 44 = 0.0005165289256198347\n",
      "No of data values that fall within two std dev using Chebyshev formula for 62 = 0.00026014568158168577\n",
      "No of data values that fall within two std dev using Chebyshev formula for 35 = 0.0008163265306122449\n",
      "No of data values that fall within two std dev using Chebyshev formula for 20 = 0.0025\n",
      "No of data values that fall within two std dev using Chebyshev formula for 30 = 0.0011111111111111111\n",
      "No of data values that fall within two std dev using Chebyshev formula for 56 = 0.00031887755102040814\n",
      "No of data values that fall within two std dev using Chebyshev formula for 20 = 0.0025\n",
      "No of data values that fall within two std dev using Chebyshev formula for 23 = 0.001890359168241966\n",
      "No of data values that fall within two std dev using Chebyshev formula for 41 = 0.000594883997620464\n",
      "No of data values that fall within two std dev using Chebyshev formula for 55 = 0.00033057851239669424\n",
      "No of data values that fall within two std dev using Chebyshev formula for 22 = 0.002066115702479339\n",
      "No of data values that fall within two std dev using Chebyshev formula for 31 = 0.001040582726326743\n",
      "No of data values that fall within two std dev using Chebyshev formula for 27 = 0.0013717421124828531\n",
      "No of data values that fall within two std dev using Chebyshev formula for 66 = 0.0002295684113865932\n",
      "No of data values that fall within two std dev using Chebyshev formula for 21 = 0.0022675736961451248\n",
      "No of data values that fall within two std dev using Chebyshev formula for 18 = 0.0030864197530864196\n",
      "No of data values that fall within two std dev using Chebyshev formula for 24 = 0.001736111111111111\n",
      "No of data values that fall within two std dev using Chebyshev formula for 42 = 0.0005668934240362812\n",
      "No of data values that fall within two std dev using Chebyshev formula for 25 = 0.0016\n",
      "No of data values that fall within two std dev using Chebyshev formula for 32 = 0.0009765625\n",
      "No of data values that fall within two std dev using Chebyshev formula for 50 = 0.0004\n",
      "No of data values that fall within two std dev using Chebyshev formula for 31 = 0.001040582726326743\n",
      "No of data values that fall within two std dev using Chebyshev formula for 26 = 0.0014792899408284023\n",
      "No of data values that fall within two std dev using Chebyshev formula for 36 = 0.0007716049382716049\n",
      "No of data values that fall within two std dev using Chebyshev formula for 39 = 0.0006574621959237344\n",
      "No of data values that fall within two std dev using Chebyshev formula for 40 = 0.000625\n",
      "No of data values that fall within two std dev using Chebyshev formula for 18 = 0.0030864197530864196\n",
      "No of data values that fall within two std dev using Chebyshev formula for 36 = 0.0007716049382716049\n",
      "No of data values that fall within two std dev using Chebyshev formula for 22 = 0.002066115702479339\n"
     ]
    }
   ],
   "source": [
    "# function to find probability for different values in the list\n",
    "\n",
    "p_cheb = np.zeros(len(age))\n",
    "\n",
    "print('Chebyshev_Inequality for different values in the list :\\n') \n",
    "\n",
    "for i in range(len(age)):\n",
    "    p_cheb[i] = chebyshev_inequality(age[i])\n",
    "    print('No of data values that fall within two std dev using Chebyshev formula for',age[i],'=', p_cheb[i])"
   ]
  },
  {
   "cell_type": "code",
   "execution_count": 16,
   "id": "ff31265d",
   "metadata": {},
   "outputs": [],
   "source": [
    "# Probability using normal distrbution\n",
    "\n",
    "p_norm = np.zeros(len(age))\n",
    "\n",
    "for i in range(len(age)):\n",
    "   p_norm[i] = (1 - norm.cdf(age[i])) * 2"
   ]
  },
  {
   "cell_type": "code",
   "execution_count": 17,
   "id": "a846153c",
   "metadata": {},
   "outputs": [
    {
     "data": {
      "image/png": "[encoded data removed]",
      "text/plain": [
       "<Figure size 864x576 with 1 Axes>"
      ]
     },
     "metadata": {
      "needs_background": "light"
     },
     "output_type": "display_data"
    }
   ],
   "source": [
    "plt.figure(figsize=(12,8))\n",
    "plt.plot(age,p_cheb,'-o')\n",
    "plt.plot(age,p_norm, '-o')\n",
    "plt.xlabel('k parameter')\n",
    "plt.ylabel('Probability')\n",
    "plt.legend([\"Estimated by Chebyshev's Inequality\",\"Estimated by Cumulative Normal Distribution\"]);"
   ]
  },
  {
   "cell_type": "markdown",
   "id": "f75cd184",
   "metadata": {},
   "source": [
    "The figure shows that Chebyshev's Inequality provides an upper bound (the blue curve) for the true ratio of large numbers that can be drawn from a unit normal distribution (the orange curve). Note that Chebyshevs's Inequality provides tighter bounds for larger k values."
   ]
  },
  {
   "cell_type": "markdown",
   "id": "62a6a116",
   "metadata": {},
   "source": [
    "<table align=\"left\">\n",
    "    <tr>\n",
    "        <td width=\"6%\">\n",
    "            <img src=\"question_icon.png\">\n",
    "        </td>\n",
    "        <td>\n",
    "            <div align=\"left\", style=\"font-size:120%\">\n",
    "                <font color=\"#21618C\">\n",
    "                    <b>Q6. Find the three quartiles and the interquartile range (IQR).</b>\n",
    "                </font>\n",
    "            </div>\n",
    "        </td>\n",
    "    </tr>\n",
    "</table>"
   ]
  },
  {
   "cell_type": "code",
   "execution_count": 18,
   "id": "297b4cec",
   "metadata": {},
   "outputs": [
    {
     "name": "stdout",
     "output_type": "stream",
     "text": [
      "First Quartile = 23.25\n",
      "Second Quartile = 31.5\n",
      "Third Quartile = 41.75\n",
      "Inter Quartile Range = 18.5\n"
     ]
    }
   ],
   "source": [
    "q1 = np.percentile(age,25)\n",
    "q2 = np.percentile(age,50)\n",
    "q3 = np.percentile(age,75)\n",
    "iqr = q3 - q1\n",
    "\n",
    "print('First Quartile =',q1)\n",
    "print('Second Quartile =',q2)\n",
    "print('Third Quartile =',q3)\n",
    "print('Inter Quartile Range =',iqr)"
   ]
  },
  {
   "cell_type": "markdown",
   "id": "896bc6ba",
   "metadata": {},
   "source": [
    "<table align=\"left\">\n",
    "    <tr>\n",
    "        <td width=\"6%\">\n",
    "            <img src=\"question_icon.png\">\n",
    "        </td>\n",
    "        <td>\n",
    "            <div align=\"left\", style=\"font-size:120%\">\n",
    "                <font color=\"#21618C\">\n",
    "                    <b>Q7. Are there any outliers in the data set ?</b>\n",
    "                </font>\n",
    "            </div>\n",
    "        </td>\n",
    "    </tr>\n",
    "</table>"
   ]
  },
  {
   "cell_type": "code",
   "execution_count": 19,
   "id": "395f8c43",
   "metadata": {},
   "outputs": [
    {
     "name": "stdout",
     "output_type": "stream",
     "text": [
      "42  is Not an Outlier\n",
      "44  is Not an Outlier\n",
      "62  is Not an Outlier\n",
      "35  is Not an Outlier\n",
      "20  is Not an Outlier\n",
      "30  is Not an Outlier\n",
      "56  is Not an Outlier\n",
      "20  is Not an Outlier\n",
      "23  is Not an Outlier\n",
      "41  is Not an Outlier\n",
      "55  is Not an Outlier\n",
      "22  is Not an Outlier\n",
      "31  is Not an Outlier\n",
      "27  is Not an Outlier\n",
      "66  is Not an Outlier\n",
      "21  is Not an Outlier\n",
      "18  is Not an Outlier\n",
      "24  is Not an Outlier\n",
      "42  is Not an Outlier\n",
      "25  is Not an Outlier\n",
      "32  is Not an Outlier\n",
      "50  is Not an Outlier\n",
      "31  is Not an Outlier\n",
      "26  is Not an Outlier\n",
      "36  is Not an Outlier\n",
      "39  is Not an Outlier\n",
      "40  is Not an Outlier\n",
      "18  is Not an Outlier\n",
      "36  is Not an Outlier\n",
      "22  is Not an Outlier\n"
     ]
    }
   ],
   "source": [
    "ul= q3 + 1.5 * iqr # Upper Bound\n",
    "ll= q1 - 1.5 * iqr # Lower Bound\n",
    "\n",
    "# Checking if any element in the age list is not falling under the range of Upper Bound and Lower Bound\n",
    "\n",
    "for i in age:\n",
    "    if (i>ul) | (i < ll) :\n",
    "        print(i)\n",
    "    else:\n",
    "        print(i,' is Not an Outlier')"
   ]
  },
  {
   "cell_type": "markdown",
   "id": "85378cdf",
   "metadata": {},
   "source": [
    "Thus, we can conclude that there are no Outliers in the Dataset."
   ]
  },
  {
   "cell_type": "markdown",
   "id": "5132f85a",
   "metadata": {},
   "source": [
    "<table align=\"left\">\n",
    "    <tr>\n",
    "        <td width=\"6%\">\n",
    "            <img src=\"question_icon.png\">\n",
    "        </td>\n",
    "        <td>\n",
    "            <div align=\"left\", style=\"font-size:120%\">\n",
    "                <font color=\"#21618C\">\n",
    "                    <b>Q8. Draw a boxplot of the dataset to confirm .</b>\n",
    "                </font>\n",
    "            </div>\n",
    "        </td>\n",
    "    </tr>\n",
    "</table>"
   ]
  },
  {
   "cell_type": "code",
   "execution_count": 20,
   "id": "49dcf46c",
   "metadata": {},
   "outputs": [
    {
     "data": {
      "text/plain": [
       "<AxesSubplot:>"
      ]
     },
     "execution_count": 20,
     "metadata": {},
     "output_type": "execute_result"
    },
    {
     "data": {
      "image/png": "[encoded data removed]",
      "text/plain": [
       "<Figure size 720x576 with 1 Axes>"
      ]
     },
     "metadata": {
      "needs_background": "light"
     },
     "output_type": "display_data"
    }
   ],
   "source": [
    "plt.figure(figsize=(10,8))\n",
    "sns.boxplot(age)"
   ]
  },
  {
   "cell_type": "markdown",
   "id": "7d070f2b",
   "metadata": {},
   "source": [
    "There are no outliers in the dataset."
   ]
  },
  {
   "cell_type": "markdown",
   "id": "61e91399",
   "metadata": {},
   "source": [
    "<table align=\"left\">\n",
    "    <tr>\n",
    "        <td width=\"6%\">\n",
    "            <img src=\"question_icon.png\">\n",
    "        </td>\n",
    "        <td>\n",
    "            <div align=\"left\", style=\"font-size:120%\">\n",
    "                <font color=\"#21618C\">\n",
    "                    <b>Q9. Find the percentile rank of the datapoint 50.</b>\n",
    "                </font>\n",
    "            </div>\n",
    "        </td>\n",
    "    </tr>\n",
    "</table>"
   ]
  },
  {
   "cell_type": "code",
   "execution_count": 21,
   "id": "13d57483",
   "metadata": {},
   "outputs": [
    {
     "data": {
      "text/plain": [
       "31.5"
      ]
     },
     "execution_count": 21,
     "metadata": {},
     "output_type": "execute_result"
    }
   ],
   "source": [
    "np.percentile(age,50)"
   ]
  },
  {
   "cell_type": "markdown",
   "id": "d06e3630",
   "metadata": {},
   "source": [
    "<table align=\"left\">\n",
    "    <tr>\n",
    "        <td width=\"6%\">\n",
    "            <img src=\"question_icon.png\">\n",
    "        </td>\n",
    "        <td>\n",
    "            <div align=\"left\", style=\"font-size:120%\">\n",
    "                <font color=\"#21618C\">\n",
    "                    <b>Q10. What is the probability that a person ordering an EV scooter is above 50 years old?</b>\n",
    "                </font>\n",
    "            </div>\n",
    "        </td>\n",
    "    </tr>\n",
    "</table>"
   ]
  },
  {
   "cell_type": "code",
   "execution_count": 22,
   "id": "f51a685a",
   "metadata": {},
   "outputs": [
    {
     "name": "stdout",
     "output_type": "stream",
     "text": [
      "0.13\n"
     ]
    }
   ],
   "source": [
    "# Sample Space\n",
    "num = 30\n",
    "\n",
    "# Outcomes of a person being above the age of 50 years old\n",
    "outcomes = 4\n",
    "\n",
    "# Divide possible outcomes by the sample set\n",
    "probability = outcomes / num\n",
    "\n",
    "# Print probability rounded to two decimal places\n",
    "print(round(probability, 2))"
   ]
  },
  {
   "cell_type": "markdown",
   "id": "43da0a06",
   "metadata": {},
   "source": [
    "<table align=\"left\">\n",
    "    <tr>\n",
    "        <td width=\"6%\">\n",
    "            <img src=\"question_icon.png\">\n",
    "        </td>\n",
    "        <td>\n",
    "            <div align=\"left\", style=\"font-size:120%\">\n",
    "                <font color=\"#21618C\">\n",
    "                    <b>Q11. Create a frequency distribution for the data and visualize it appropriately.</b>\n",
    "                </font>\n",
    "            </div>\n",
    "        </td>\n",
    "    </tr>\n",
    "</table>"
   ]
  },
  {
   "cell_type": "code",
   "execution_count": 23,
   "id": "a79b04df",
   "metadata": {},
   "outputs": [
    {
     "data": {
      "text/plain": [
       "42    2\n",
       "36    2\n",
       "20    2\n",
       "22    2\n",
       "31    2\n",
       "18    2\n",
       "21    1\n",
       "39    1\n",
       "26    1\n",
       "50    1\n",
       "32    1\n",
       "25    1\n",
       "24    1\n",
       "27    1\n",
       "66    1\n",
       "44    1\n",
       "55    1\n",
       "41    1\n",
       "23    1\n",
       "56    1\n",
       "30    1\n",
       "35    1\n",
       "62    1\n",
       "40    1\n",
       "dtype: int64"
      ]
     },
     "execution_count": 23,
     "metadata": {},
     "output_type": "execute_result"
    }
   ],
   "source": [
    "#define Series\n",
    "data = pd.Series(age)\n",
    "\n",
    "#find frequencies of each value\n",
    "data.value_counts()"
   ]
  },
  {
   "cell_type": "code",
   "execution_count": 24,
   "id": "deaa8cfb",
   "metadata": {},
   "outputs": [
    {
     "data": {
      "text/plain": [
       "<AxesSubplot:ylabel='Density'>"
      ]
     },
     "execution_count": 24,
     "metadata": {},
     "output_type": "execute_result"
    },
    {
     "data": {
      "image/png": "[encoded data removed]",
      "text/plain": [
       "<Figure size 1080x432 with 1 Axes>"
      ]
     },
     "metadata": {
      "needs_background": "light"
     },
     "output_type": "display_data"
    }
   ],
   "source": [
    "plt.figure(figsize=(15,6))\n",
    "sns.distplot(age)"
   ]
  },
  {
   "cell_type": "markdown",
   "id": "9dd3fde0",
   "metadata": {},
   "source": [
    "Conclusion - Maximum buyers are in the age range of 18-30."
   ]
  },
  {
   "cell_type": "markdown",
   "id": "0b9968c7",
   "metadata": {},
   "source": [
    "<table align=\"left\">\n",
    "    <tr>\n",
    "        <td width=\"6%\">\n",
    "            <img src=\"question_icon.png\">\n",
    "        </td>\n",
    "        <td>\n",
    "            <div align=\"left\", style=\"font-size:120%\">\n",
    "                <font color=\"#21618C\">\n",
    "                    <b>Q12. Create a probability distribution of the data and visualize it appropriately.</b>\n",
    "                </font>\n",
    "            </div>\n",
    "        </td>\n",
    "    </tr>\n",
    "</table>"
   ]
  },
  {
   "cell_type": "code",
   "execution_count": 25,
   "id": "2506b318",
   "metadata": {},
   "outputs": [
    {
     "data": {
      "text/plain": [
       "[Text(0.5, 0, 'Normal Distribution'), Text(0, 0.5, 'Frequency')]"
      ]
     },
     "execution_count": 25,
     "metadata": {},
     "output_type": "execute_result"
    },
    {
     "data": {
      "image/png": "[encoded data removed]",
      "text/plain": [
       "<Figure size 1080x432 with 1 Axes>"
      ]
     },
     "metadata": {
      "needs_background": "light"
     },
     "output_type": "display_data"
    }
   ],
   "source": [
    "plt.figure(figsize=(15,6))\n",
    "\n",
    "ax = sns.distplot(age,\n",
    "                  bins=30,\n",
    "                  kde=True,\n",
    "                  color='skyblue')\n",
    "\n",
    "ax.set(xlabel='Normal Distribution', ylabel='Frequency')"
   ]
  },
  {
   "cell_type": "markdown",
   "id": "068e3410",
   "metadata": {},
   "source": [
    "<table align=\"left\">\n",
    "    <tr>\n",
    "        <td width=\"6%\">\n",
    "            <img src=\"question_icon.png\">\n",
    "        </td>\n",
    "        <td>\n",
    "            <div align=\"left\", style=\"font-size:120%\">\n",
    "                <font color=\"#21618C\">\n",
    "                    <b>Q13. What is the shape of the distribution of this dataset? Create an\n",
    "appropriate graph to determine that. Take 100 random samples with\n",
    "replacement from this dataset of size 5 each. Create a sampling distribution of\n",
    "the mean age of customers. Compare with other sampling distributions of\n",
    "sample size 10, 15, 20, 25, 30. State your observations. Does it corroborate\n",
    "the Central Limit Theorem?</b>\n",
    "                </font>\n",
    "            </div>\n",
    "        </td>\n",
    "    </tr>\n",
    "</table>"
   ]
  },
  {
   "cell_type": "code",
   "execution_count": 26,
   "id": "9a2b546f",
   "metadata": {},
   "outputs": [
    {
     "data": {
      "text/plain": [
       "30"
      ]
     },
     "execution_count": 26,
     "metadata": {},
     "output_type": "execute_result"
    }
   ],
   "source": [
    "len(age)"
   ]
  },
  {
   "cell_type": "markdown",
   "id": "aa1b07f8",
   "metadata": {},
   "source": [
    "## Sampling Distrbution of Sample size 100"
   ]
  },
  {
   "cell_type": "code",
   "execution_count": 27,
   "id": "19d38ba4",
   "metadata": {},
   "outputs": [
    {
     "name": "stdout",
     "output_type": "stream",
     "text": [
      "Sample with replacement: [66, 35, 42, 36, 36, 22, 30, 50, 31, 26, 42, 20, 50, 22, 31, 22, 42, 56, 27, 42, 20, 20, 31, 56, 31, 56, 40, 30, 50, 31, 26, 39, 66, 22, 31, 22, 62, 30, 36, 20, 55, 40, 62, 22, 36, 30, 30, 62, 41, 50, 27, 20, 20, 35, 25, 41, 18, 36, 36, 31, 20, 35, 30, 24, 27, 31, 36, 23, 42, 18, 55, 18, 44, 35, 35, 20, 36, 18, 27, 55, 26, 42, 24, 36, 35, 27, 35, 42, 55, 50, 22, 56, 62, 31, 36, 62, 22, 40, 40, 30]\n"
     ]
    }
   ],
   "source": [
    "# pass the data to the parameter, 'population'\n",
    "# pass the required sample size to the parameter, 'k' \n",
    "\n",
    "sample_wr = random.choices(population = age, k = 100)\n",
    "\n",
    "# print the sample\n",
    "print('Sample with replacement:', sample_wr)"
   ]
  },
  {
   "cell_type": "markdown",
   "id": "fab71239",
   "metadata": {},
   "source": [
    "In Simple Random Sampling Without Replacement (`SRSWOR`) an observation can occur only once as we do not replace the selected observation before drawing the next sample. <br>\n",
    "If there are `N` observations in the population then the probability of drawing `n` samples without replacement is $\\frac{1}{N \\choose n}$"
   ]
  },
  {
   "cell_type": "code",
   "execution_count": 28,
   "id": "ddc2f385",
   "metadata": {},
   "outputs": [
    {
     "data": {
      "text/plain": [
       "0.6716735510706081"
      ]
     },
     "execution_count": 28,
     "metadata": {},
     "output_type": "execute_result"
    }
   ],
   "source": [
    "skew(sample_wr)"
   ]
  },
  {
   "cell_type": "markdown",
   "id": "78ddac7c",
   "metadata": {},
   "source": [
    "Thus it is a rightly skewed population."
   ]
  },
  {
   "cell_type": "code",
   "execution_count": 29,
   "id": "5d55304e",
   "metadata": {},
   "outputs": [
    {
     "data": {
      "image/png": "[encoded data removed]",
      "text/plain": [
       "<Figure size 1080x432 with 1 Axes>"
      ]
     },
     "metadata": {
      "needs_background": "light"
     },
     "output_type": "display_data"
    }
   ],
   "source": [
    "# create a sampling distribution from the above population with replacement\n",
    "# first we define the number of samples to be drawn \n",
    "n_samples=100\n",
    "\n",
    "# create an empty list to store the means of each sample\n",
    "sample_means = []\n",
    "\n",
    "# create a for loop to get the sample means array\n",
    "for i in range(n_samples):\n",
    "    # generates a random sample of size 100 from the population array\n",
    "    sample = np.random.choice(sample_wr, size=100, replace=True)\n",
    "        \n",
    "    # calculate the mean of the sample data\n",
    "    sample_mean = np.mean(sample)\n",
    "        \n",
    "    # append the mean to the list\n",
    "    sample_means.append(sample_mean) \n",
    "    \n",
    "# plot the distribution of the sample means \n",
    "plt.figure(figsize=(15,6))\n",
    "sns.distplot(sample_means)\n",
    "\n",
    "# give the graph a title\n",
    "plt.title(\"Sampling Distribution\", fontsize=15)\n",
    "\n",
    "# display the graph\n",
    "plt.show()\n"
   ]
  },
  {
   "cell_type": "markdown",
   "id": "2e3281d7",
   "metadata": {},
   "source": [
    "We observe from the above experiment that even though the population was right skewed , a sampling distribution of samples with size 100 is almost a normal distribution.\n",
    "\n",
    "This corroborates with the CENTRAL LIMIT THEOREM."
   ]
  },
  {
   "cell_type": "markdown",
   "id": "cafaa491",
   "metadata": {},
   "source": [
    "## Sampling Distrbution of Sample size 10"
   ]
  },
  {
   "cell_type": "code",
   "execution_count": 30,
   "id": "b8142c6a",
   "metadata": {},
   "outputs": [
    {
     "name": "stdout",
     "output_type": "stream",
     "text": [
      "Sample with replacement: [26, 55, 18, 44, 18, 18, 31, 22, 27, 36]\n"
     ]
    }
   ],
   "source": [
    "# pass the data to the parameter, 'population'\n",
    "# pass the required sample size to the parameter, 'k' \n",
    "\n",
    "sample_wr = random.choices(population = age, k = 10)\n",
    "\n",
    "# print the sample\n",
    "print('Sample with replacement:', sample_wr)"
   ]
  },
  {
   "cell_type": "code",
   "execution_count": 31,
   "id": "14dd5a41",
   "metadata": {},
   "outputs": [
    {
     "data": {
      "text/plain": [
       "0.9204508220954926"
      ]
     },
     "execution_count": 31,
     "metadata": {},
     "output_type": "execute_result"
    }
   ],
   "source": [
    "skew(sample_wr)"
   ]
  },
  {
   "cell_type": "markdown",
   "id": "6b0ed3b1",
   "metadata": {},
   "source": [
    "Thus it is a left skewed population."
   ]
  },
  {
   "cell_type": "code",
   "execution_count": 32,
   "id": "0749038d",
   "metadata": {},
   "outputs": [
    {
     "data": {
      "image/png": "[encoded data removed]",
      "text/plain": [
       "<Figure size 1080x432 with 1 Axes>"
      ]
     },
     "metadata": {
      "needs_background": "light"
     },
     "output_type": "display_data"
    }
   ],
   "source": [
    "# create a sampling distribution from the above population with replacement\n",
    "# first we define the number of samples to be drawn \n",
    "n_samples=10\n",
    "\n",
    "# create an empty list to store the means of each sample\n",
    "sample_means = []\n",
    "\n",
    "# create a for loop to get the sample means array\n",
    "for i in range(n_samples):\n",
    "    # generates a random sample of size 10 from the population array\n",
    "    sample = np.random.choice(sample_wr, size=10, replace=True)\n",
    "        \n",
    "    # calculate the mean of the sample data\n",
    "    sample_mean = np.mean(sample)\n",
    "        \n",
    "    # append the mean to the list\n",
    "    sample_means.append(sample_mean) \n",
    "    \n",
    "# plot the distribution of the sample means \n",
    "plt.figure(figsize=(15,6))\n",
    "sns.distplot(sample_means)\n",
    "\n",
    "# give the graph a title\n",
    "plt.title(\"Sampling Distribution\", fontsize=15)\n",
    "\n",
    "# display the graph\n",
    "plt.show()"
   ]
  },
  {
   "cell_type": "markdown",
   "id": "2713a4a1",
   "metadata": {},
   "source": [
    "We observe from the above experiment that even though the population was right skewed , a sampling distribution of samples with size 100 is not a normal distribution.\n",
    "\n",
    "This does not corroborate with the CENTRAL LIMIT THEOREM."
   ]
  },
  {
   "cell_type": "markdown",
   "id": "f362a03e",
   "metadata": {},
   "source": [
    "<table align=\"left\">\n",
    "    <tr>\n",
    "        <td width=\"6%\">\n",
    "            <img src=\"question_icon.png\">\n",
    "        </td>\n",
    "        <td>\n",
    "            <div align=\"left\", style=\"font-size:120%\">\n",
    "                <font color=\"#21618C\">\n",
    "                    <b>Q14. Treat this dataset as a binomial distribution where p is the probability\n",
    "that a person ordering an EV is above 50 years age. What is the probability\n",
    "that out of a random sample of 10 buyers exactly 6 are above 50 years of\n",
    "age?</b>\n",
    "                </font>\n",
    "            </div>\n",
    "        </td>\n",
    "    </tr>\n",
    "</table>"
   ]
  },
  {
   "cell_type": "code",
   "execution_count": 33,
   "id": "ec684282",
   "metadata": {},
   "outputs": [
    {
     "name": "stdout",
     "output_type": "stream",
     "text": [
      "The probability that out of a random sample of 10 buyers exactly 6 are above 50 years of age : 3.943760438231042e-05\n"
     ]
    }
   ],
   "source": [
    "# use 'binom.pmf()' to calculate the pmf for binomial distribution \n",
    "# pass the required value to the parameter, 'k' \n",
    "# pass number of total shots fired to the parameter, 'n'\n",
    "# probability of people being above the age of 50 is 4/50\n",
    "\n",
    "prob = stats.binom.pmf(k = 6, n = 10, p = 4/50)\n",
    "\n",
    "# use 'round()' to round-off the value to 2 digits\n",
    "print('The probability that out of a random sample of 10 buyers exactly 6 are above 50 years of age :', prob)"
   ]
  },
  {
   "cell_type": "markdown",
   "id": "5c493832",
   "metadata": {},
   "source": [
    "The probability value is nearly negligible hence the probability is very that out of a random sample of 10 buyers exactly 6 are above 50 years of age."
   ]
  },
  {
   "cell_type": "markdown",
   "id": "b54e1e5e",
   "metadata": {},
   "source": [
    "<table align=\"left\">\n",
    "    <tr>\n",
    "        <td width=\"6%\">\n",
    "            <img src=\"question_icon.png\">\n",
    "        </td>\n",
    "        <td>\n",
    "            <div align=\"left\", style=\"font-size:120%\">\n",
    "                <font color=\"#21618C\">\n",
    "                    <b>Q15. A study claims that 10% of all customers for an EV scooter are above 50\n",
    "years of age. Using the Normal approximation of a Binomial distribution, find\n",
    "the probability that in a random sample of 300 prospective customers exactly\n",
    "25 will be above 50 years of age.\n",
    "[ Note that the normal distribution can be used to approximate a binomial\n",
    "distribution if np>=5 and nq>=5 with the following correction for continuity\n",
    "P(X=z) = P(z-0.5 < X < z+0.5 ) ]\n",
    "</b>\n",
    "                </font>\n",
    "            </div>\n",
    "        </td>\n",
    "    </tr>\n",
    "</table>"
   ]
  },
  {
   "cell_type": "code",
   "execution_count": 97,
   "id": "5126e0d7",
   "metadata": {},
   "outputs": [
    {
     "data": {
      "text/plain": [
       "0.051"
      ]
     },
     "execution_count": 97,
     "metadata": {},
     "output_type": "execute_result"
    }
   ],
   "source": [
    "round ( stats.binom.pmf( k=25 , n=300 , p=0.10 ) , 3 )"
   ]
  },
  {
   "cell_type": "markdown",
   "id": "bb94648b",
   "metadata": {},
   "source": [
    "- k - Number of times experiment will be carried out\n",
    "- n - Sample size\n",
    "- p - probability of the condition being true"
   ]
  },
  {
   "cell_type": "markdown",
   "id": "db249d3f",
   "metadata": {},
   "source": [
    "<table align=\"left\">\n",
    "    <tr>\n",
    "        <td width=\"6%\">\n",
    "            <img src=\"question_icon.png\">\n",
    "        </td>\n",
    "        <td>\n",
    "            <div align=\"left\", style=\"font-size:120%\">\n",
    "                <font color=\"#21618C\">\n",
    "                    <b>Q16. Compute a 95% Confidence Interval for the true mean age of the\n",
    "population of EV scooter buyers for the dataset using appropriate distribution.(\n",
    "State reasons as to why did you use a z or t distribution)\n",
    "                        </b>\n",
    "                </font>\n",
    "            </div>\n",
    "        </td>\n",
    "    </tr>\n",
    "</table>"
   ]
  },
  {
   "cell_type": "code",
   "execution_count": 98,
   "id": "2e3d31d3",
   "metadata": {},
   "outputs": [],
   "source": [
    "from scipy.stats import shapiro"
   ]
  },
  {
   "cell_type": "code",
   "execution_count": 99,
   "id": "781a4793",
   "metadata": {},
   "outputs": [
    {
     "data": {
      "text/plain": [
       "(0.9230570793151855, 0.03221774846315384)"
      ]
     },
     "execution_count": 99,
     "metadata": {},
     "output_type": "execute_result"
    }
   ],
   "source": [
    "# type your code here\n",
    "\n",
    "# Data:\n",
    "# (Normal) : Normal ?? (Shapiro Test) (Hypothesis)\n",
    "\n",
    "# Hypothesis:\n",
    "# Null Hypothesis\n",
    "# Alternate\n",
    "\n",
    "# Test:\n",
    "# statistics value, probability value\n",
    "\n",
    "# statistics value -> compare -> critical value.\n",
    "# probability value -> compare -> alpha (SL)\n",
    "\n",
    "# Hypothesis :\n",
    "# H0: Data is normal \n",
    "# HA: Data is not normal.\n",
    "\n",
    "stat, p_value = shapiro(age)\n",
    "stat, p_value\n"
   ]
  },
  {
   "cell_type": "code",
   "execution_count": 100,
   "id": "7f9e3c86",
   "metadata": {},
   "outputs": [],
   "source": [
    "# alpha = 0.05\n",
    "# p = 0.032\n",
    "\n",
    "# p > alpha\n",
    "# Donot reject null hypothesis.\n",
    "# Data is normal."
   ]
  },
  {
   "cell_type": "code",
   "execution_count": 101,
   "id": "e2af09cc",
   "metadata": {},
   "outputs": [
    {
     "data": {
      "text/plain": [
       "Ttest_1sampResult(statistic=0.0, pvalue=1.0)"
      ]
     },
     "execution_count": 101,
     "metadata": {},
     "output_type": "execute_result"
    }
   ],
   "source": [
    "scipy.stats.ttest_1samp(age, np.mean(age))"
   ]
  },
  {
   "cell_type": "markdown",
   "id": "59858104",
   "metadata": {},
   "source": [
    "<table align=\"left\">\n",
    "    <tr>\n",
    "        <td width=\"6%\">\n",
    "            <img src=\"question_icon.png\">\n",
    "        </td>\n",
    "        <td>\n",
    "            <div align=\"left\", style=\"font-size:120%\">\n",
    "                <font color=\"#21618C\">\n",
    "                    <b>Q17. A data scientist wants to estimate with 95% confidence the proportion of\n",
    "people who own an EV in the population. A recent study showed that 20% of\n",
    "people interviewed had an EV. The data scientist wants to be accurate within\n",
    "2% of the true proportion. Find the minimum sample size necessary.\n",
    "                        </b>\n",
    "                </font>\n",
    "            </div>\n",
    "        </td>\n",
    "    </tr>\n",
    "</table>"
   ]
  },
  {
   "cell_type": "code",
   "execution_count": 89,
   "id": "75380d4f",
   "metadata": {},
   "outputs": [
    {
     "data": {
      "text/plain": [
       "10.66"
      ]
     },
     "execution_count": 89,
     "metadata": {},
     "output_type": "execute_result"
    }
   ],
   "source": [
    "std =  statistics.stdev(age)\n",
    "n = 0.20 * len(age)\n",
    "alpha = 0.05\n",
    "\n",
    "z = stats.norm.isf(q = 0.05/2)\n",
    "margin_of_error = round(z*std/np.sqrt(n),2)\n",
    "margin_of_error"
   ]
  },
  {
   "cell_type": "code",
   "execution_count": 91,
   "id": "5f906b26",
   "metadata": {},
   "outputs": [
    {
     "data": {
      "text/plain": [
       "6"
      ]
     },
     "execution_count": 91,
     "metadata": {},
     "output_type": "execute_result"
    }
   ],
   "source": [
    "n = round(((z * std) / margin_of_error)**2)\n",
    "n"
   ]
  },
  {
   "cell_type": "markdown",
   "id": "9ede749e",
   "metadata": {},
   "source": [
    "<table align=\"left\">\n",
    "    <tr>\n",
    "        <td width=\"6%\">\n",
    "            <img src=\"question_icon.png\">\n",
    "        </td>\n",
    "        <td>\n",
    "            <div align=\"left\", style=\"font-size:120%\">\n",
    "                <font color=\"#21618C\">\n",
    "                    <b>Q18. The same data scientist wants to estimate the proportion of executives\n",
    "who own an EV. She wants to be 90% confident and accurate within 5% of\n",
    "true proportion. Find the minimum sample size necessary.\n",
    "                        </b>\n",
    "                </font>\n",
    "            </div>\n",
    "        </td>\n",
    "    </tr>\n",
    "</table>"
   ]
  },
  {
   "cell_type": "code",
   "execution_count": 92,
   "id": "cf0c4d58",
   "metadata": {},
   "outputs": [
    {
     "data": {
      "text/plain": [
       "8.94"
      ]
     },
     "execution_count": 92,
     "metadata": {},
     "output_type": "execute_result"
    }
   ],
   "source": [
    "std =  statistics.stdev(age)\n",
    "n = 0.20 * len(age)\n",
    "alpha = 0.1\n",
    "\n",
    "z = stats.norm.isf(q = 0.1/2)\n",
    "margin_of_error = round(z*std/np.sqrt(n),2)\n",
    "margin_of_error"
   ]
  },
  {
   "cell_type": "code",
   "execution_count": 93,
   "id": "6c52c224",
   "metadata": {},
   "outputs": [
    {
     "data": {
      "text/plain": [
       "6"
      ]
     },
     "execution_count": 93,
     "metadata": {},
     "output_type": "execute_result"
    }
   ],
   "source": [
    "n = round(((z * std) / margin_of_error)**2)\n",
    "n"
   ]
  },
  {
   "cell_type": "markdown",
   "id": "20f62cfa",
   "metadata": {},
   "source": [
    "<table align=\"left\">\n",
    "    <tr>\n",
    "        <td width=\"6%\">\n",
    "            <img src=\"question_icon.png\">\n",
    "        </td>\n",
    "        <td>\n",
    "            <div align=\"left\", style=\"font-size:120%\">\n",
    "                <font color=\"#21618C\">\n",
    "                    <b>Q19. A researcher claims that currently 20% of the population are owning\n",
    "EVs. Test his claim with an alpha =0.05 if out of a random sample of 30\n",
    "two-wheeler owners only 5 own an EV.\n",
    "                        </b>\n",
    "                </font>\n",
    "            </div>\n",
    "        </td>\n",
    "    </tr>\n",
    "</table>"
   ]
  },
  {
   "cell_type": "code",
   "execution_count": 102,
   "id": "ff999384",
   "metadata": {},
   "outputs": [
    {
     "data": {
      "text/plain": [
       "0.17227918285000246"
      ]
     },
     "execution_count": 102,
     "metadata": {},
     "output_type": "execute_result"
    }
   ],
   "source": [
    "stats.binom.pmf( k=5 , n=30 , p=0.20 )"
   ]
  },
  {
   "cell_type": "markdown",
   "id": "2d2071d4",
   "metadata": {},
   "source": [
    "Probability that out of a random sample of 30 two wheeler owners only 5 own an EV is around 0.172. "
   ]
  },
  {
   "cell_type": "markdown",
   "id": "b8aab444",
   "metadata": {},
   "source": [
    "<table align=\"left\">\n",
    "    <tr>\n",
    "        <td width=\"6%\">\n",
    "            <img src=\"question_icon.png\">\n",
    "        </td>\n",
    "        <td>\n",
    "            <div align=\"left\", style=\"font-size:120%\">\n",
    "                <font color=\"#21618C\">\n",
    "                    <b>Q20. Assume you are working for a Consumer Protection Agency that looks at\n",
    "complaints raised by customers for the transportation industry. Say you have\n",
    "been receiving complaints about the mileage of the latest EV launched by the\n",
    "Zen Automotives. Zen allows you to test randomly 40 of its new EVs to test\n",
    "mileage. Zen claims that the new EVs get a mileage of 96 kmpl on the\n",
    "highway. Your results show a mean of 91.3 kmpl and a standard deviation of\n",
    "14.4.    \n",
    "a. Show why you support Zen’s claim using the P-value obtained.\n",
    "b. After more complaints you decide to test the variability of the mileage on\n",
    "the highway. On questioning Zen’s quality control engineer , you find\n",
    "that they are claiming a standard deviation of 7.2. Test the claim about\n",
    "the standard deviation. [Hint :use the Chi-square test for\n",
    "variance/standard deviation]\n",
    "c. Write a summary of results and the action that Zen must take to remedy\n",
    "the complaints.\n",
    "d. What is your position on performing the test for variability along with the\n",
    "test for means?\n",
    "                      </b>\n",
    "                </font>\n",
    "            </div>\n",
    "        </td>\n",
    "    </tr>\n",
    "</table>"
   ]
  },
  {
   "cell_type": "markdown",
   "id": "6054e96c",
   "metadata": {},
   "source": [
    "#### a. Show why you support Zen’s claim using the P-value obtained."
   ]
  },
  {
   "cell_type": "code",
   "execution_count": null,
   "id": "4bd973a6",
   "metadata": {},
   "outputs": [],
   "source": [
    "# H0: mu nearly equals to 96\n",
    "# Ha: mu not nearly equals to 96"
   ]
  },
  {
   "cell_type": "code",
   "execution_count": 108,
   "id": "8ee130de",
   "metadata": {},
   "outputs": [
    {
     "name": "stdout",
     "output_type": "stream",
     "text": [
      "-2.064\n"
     ]
    },
    {
     "data": {
      "text/plain": [
       "1.6848751194974"
      ]
     },
     "execution_count": 108,
     "metadata": {},
     "output_type": "execute_result"
    }
   ],
   "source": [
    "n = 40\n",
    "pop_mean = 96\n",
    "samp_mean = 91.3\n",
    "samp_std = 14.4\n",
    "\n",
    "def t_test(pop_mean, samp_std, n, samp_mean):\n",
    "    t_score = (samp_mean - pop_mean) / (samp_std/ np.sqrt(n))\n",
    "    return t_score\n",
    "\n",
    "test_stat = t_test(pop_mean, samp_std, n, samp_mean)\n",
    "\n",
    "print(round(test_stat,3))\n",
    "# crit t val:\n",
    "\n",
    "stats.t.isf(q = 0.05, df = (n-1))"
   ]
  },
  {
   "cell_type": "markdown",
   "id": "cb316692",
   "metadata": {},
   "source": [
    "- p_value > alpha.\n",
    "- Hence, we fail to reject null hypothesis."
   ]
  },
  {
   "cell_type": "markdown",
   "id": "236e3f55",
   "metadata": {},
   "source": [
    "#### b. After more complaints you decide to test the variability of the mileage on the highway. On questioning Zen’s quality control engineer , you find that they are claiming a standard deviation of 7.2. Test the claim about the standard deviation. [Hint :use the Chi-square test for variance/standard deviation] "
   ]
  },
  {
   "cell_type": "code",
   "execution_count": 109,
   "id": "2c53b5bb",
   "metadata": {},
   "outputs": [
    {
     "name": "stdout",
     "output_type": "stream",
     "text": [
      "-4.129\n"
     ]
    },
    {
     "data": {
      "text/plain": [
       "1.6848751194974"
      ]
     },
     "execution_count": 109,
     "metadata": {},
     "output_type": "execute_result"
    }
   ],
   "source": [
    "n = 40\n",
    "pop_mean = 96\n",
    "samp_mean = 91.3\n",
    "samp_std = 7.2\n",
    "\n",
    "def t_test(pop_mean, samp_std, n, samp_mean):\n",
    "    t_score = (samp_mean - pop_mean) / (samp_std/ np.sqrt(n))\n",
    "    return t_score\n",
    "\n",
    "test_stat = t_test(pop_mean, samp_std, n, samp_mean)\n",
    "\n",
    "print(round(test_stat,3))\n",
    "# crit t val:\n",
    "\n",
    "stats.t.isf(q = 0.05, df = (n-1))"
   ]
  },
  {
   "cell_type": "markdown",
   "id": "cbe3d67b",
   "metadata": {},
   "source": [
    "- p_value > alpha.\n",
    "- Hence, we fail to reject null hypothesis."
   ]
  },
  {
   "cell_type": "markdown",
   "id": "72f5e6ee",
   "metadata": {},
   "source": [
    "#### c. Write a summary of results and the action that Zen must take to remedy the complaints."
   ]
  },
  {
   "cell_type": "markdown",
   "id": "6358f916",
   "metadata": {},
   "source": [
    "In both the Hypothesis Testing, we have failed to reject the Null Hypothesis which claims that the new EVs get a mileage of 96 kmpl on the highway. However, considering that the number of complaint reports have been increasing - Zen should try to test the mileage of the vehicle on a larger sample to confirm their claim."
   ]
  },
  {
   "cell_type": "markdown",
   "id": "5ff4b792",
   "metadata": {},
   "source": [
    "#### d. What is your position on performing the test for variability along with the test for means?"
   ]
  },
  {
   "cell_type": "markdown",
   "id": "e8a968dc",
   "metadata": {},
   "source": [
    "In both the Hypothesis Testing, we have failed to reject the Null Hypothesis which claims that the new EVs get a mileage of 96 kmpl on the highway"
   ]
  },
  {
   "cell_type": "markdown",
   "id": "8874a9ef",
   "metadata": {},
   "source": [
    "<table align=\"left\">\n",
    "    <tr>\n",
    "        <td width=\"6%\">\n",
    "            <img src=\"question_icon.png\">\n",
    "        </td>\n",
    "        <td>\n",
    "            <div align=\"left\", style=\"font-size:120%\">\n",
    "                <font color=\"#21618C\">\n",
    "                    <b>Q21. Write a report comparing and contrasting Descriptive vs Inferential\n",
    "Statistics in about 200-500 words and how each helps to get more insight into\n",
    "the data at hand.\n",
    "                        </b>\n",
    "                </font>\n",
    "            </div>\n",
    "        </td>\n",
    "    </tr>\n",
    "</table>"
   ]
  },
  {
   "cell_type": "markdown",
   "id": "cdb0fd52",
   "metadata": {},
   "source": [
    "Descriptive statistics are used to describe the characteristics or features of a dataset. The term ‘descriptive statistics’ can be used to describe both individual quantitative observations (also known as ‘summary statistics’) as well as the overall process of obtaining insights from these data. We can use descriptive statistics to describe both an entire population or an individual sample. Because they are merely explanatory, descriptive statistics are not heavily concerned with the differences between the two types of data.\n",
    "\n",
    "So the measures which are usually used to perform any descriptive statistics are :\n",
    "\n",
    "- Distribution\n",
    "- Central tendency\n",
    "- Variability"
   ]
  },
  {
   "cell_type": "markdown",
   "id": "832ddb7a",
   "metadata": {},
   "source": [
    "In Inferential Statistics, the focus is on making predictions about a large group of data based on a representative sample of the population. A random sample of data is considered from a population to describe and make inferences about the population. This technique allows you to work with a small sample rather than the whole population. Since inferential statistics make predictions rather than stating facts, the results are often in the form of probability. "
   ]
  },
  {
   "cell_type": "markdown",
   "id": "c599de01",
   "metadata": {},
   "source": [
    "In our set of data as well, the Deferential Statistic measures we have used have given us information about raw data regarding its description or features and Inferential statistics, on the other hand, has helped us to draw inferences about the population by using data extracted from the population. "
   ]
  }
 ],
 "metadata": {
  "kernelspec": {
   "display_name": "Python 3 (ipykernel)",
   "language": "python",
   "name": "python3"
  },
  "language_info": {
   "codemirror_mode": {
    "name": "ipython",
    "version": 3
   },
   "file_extension": ".py",
   "mimetype": "text/x-python",
   "name": "python",
   "nbconvert_exporter": "python",
   "pygments_lexer": "ipython3",
   "version": "3.9.12"
  }
 },
 "nbformat": 4,
 "nbformat_minor": 5
}
